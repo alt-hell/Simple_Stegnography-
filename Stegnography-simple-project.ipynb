{
 "cells": [
  {
   "cell_type": "code",
   "execution_count": 9,
   "metadata": {},
   "outputs": [
    {
     "name": "stdout",
     "output_type": "stream",
     "text": [
      "Collecting pycryptodome\n",
      "  Downloading pycryptodome-3.22.0-cp37-abi3-win_amd64.whl (1.8 MB)\n",
      "Installing collected packages: pycryptodome\n",
      "Successfully installed pycryptodome-3.22.0\n"
     ]
    }
   ],
   "source": [
    "!pip install pycryptodome --user\n"
   ]
  },
  {
   "cell_type": "code",
   "execution_count": 10,
   "metadata": {},
   "outputs": [],
   "source": [
    "from Crypto.Cipher import AES\n",
    "from Crypto.Random import get_random_bytes\n",
    "import base64\n",
    "import hashlib\n",
    "\n",
    "def pad(text):\n",
    "    pad_len = 16 - len(text) % 16\n",
    "    return text + chr(pad_len) * pad_len\n",
    "\n",
    "def unpad(text):\n",
    "    return text[:-ord(text[-1])]\n",
    "\n",
    "def get_key(password):\n",
    "    return hashlib.sha256(password.encode()).digest()\n",
    "\n",
    "def encrypt_text(plain_text, password):\n",
    "    key = get_key(password)\n",
    "    cipher = AES.new(key, AES.MODE_CBC)\n",
    "    ct_bytes = cipher.encrypt(pad(plain_text).encode())\n",
    "    return base64.b64encode(cipher.iv + ct_bytes).decode('utf-8')\n",
    "\n",
    "def decrypt_text(cipher_text, password):\n",
    "    key = get_key(password)\n",
    "    data = base64.b64decode(cipher_text)\n",
    "    iv = data[:16]\n",
    "    ct = data[16:]\n",
    "    cipher = AES.new(key, AES.MODE_CBC, iv)\n",
    "    return unpad(cipher.decrypt(ct).decode('utf-8'))\n"
   ]
  },
  {
   "cell_type": "code",
   "execution_count": 11,
   "metadata": {},
   "outputs": [],
   "source": [
    "from PIL import Image\n",
    "import random\n",
    "\n",
    "def create_image(path='input_image.png', width=300, height=300, pattern='solid', color=(255, 255, 255)):\n",
    "    img = Image.new('RGB', (width, height))\n",
    "    pixels = img.load()\n",
    "\n",
    "    for x in range(width):\n",
    "        for y in range(height):\n",
    "            if pattern == 'solid':\n",
    "                pixels[x, y] = color\n",
    "            elif pattern == 'random':\n",
    "                pixels[x, y] = (random.randint(0, 255), random.randint(0, 255), random.randint(0, 255))\n",
    "            elif pattern == 'gradient':\n",
    "                r = int((x / width) * 255)\n",
    "                g = int((y / height) * 255)\n",
    "                b = 128\n",
    "                pixels[x, y] = (r, g, b)\n",
    "\n",
    "    img.save(path)\n",
    "    return path\n"
   ]
  },
  {
   "cell_type": "code",
   "execution_count": 12,
   "metadata": {},
   "outputs": [],
   "source": [
    "EOF_MARKER = '1111111111111110'\n",
    "\n",
    "def text_to_binary(text):\n",
    "    return ''.join(format(ord(c), '08b') for c in text)\n",
    "\n",
    "def binary_to_text(binary):\n",
    "    chars = [binary[i:i+8] for i in range(0, len(binary), 8)]\n",
    "    return ''.join(chr(int(char, 2)) for char in chars)\n",
    "\n",
    "def hide_text(image_path, text, output_path='stego_image.png'):\n",
    "    binary_data = text_to_binary(text) + EOF_MARKER\n",
    "    img = Image.open(image_path)\n",
    "    if img.mode != 'RGB':\n",
    "        img = img.convert('RGB')\n",
    "\n",
    "    pixels = list(img.getdata())\n",
    "    if len(pixels) * 3 < len(binary_data):\n",
    "        raise ValueError(\"Image is too small.\")\n",
    "\n",
    "    new_pixels = []\n",
    "    idx = 0\n",
    "\n",
    "    for pixel in pixels:\n",
    "        r, g, b = pixel\n",
    "        if idx < len(binary_data):\n",
    "            r = (r & ~1) | int(binary_data[idx])\n",
    "            idx += 1\n",
    "        if idx < len(binary_data):\n",
    "            g = (g & ~1) | int(binary_data[idx])\n",
    "            idx += 1\n",
    "        if idx < len(binary_data):\n",
    "            b = (b & ~1) | int(binary_data[idx])\n",
    "            idx += 1\n",
    "        new_pixels.append((r, g, b))\n",
    "\n",
    "    img.putdata(new_pixels)\n",
    "    img.save(output_path)\n",
    "    return output_path\n",
    "\n",
    "def extract_text(image_path):\n",
    "    img = Image.open(image_path)\n",
    "    pixels = list(img.getdata())\n",
    "\n",
    "    binary_data = ''\n",
    "    for pixel in pixels:\n",
    "        for val in pixel[:3]:\n",
    "            binary_data += str(val & 1)\n",
    "\n",
    "    eof = binary_data.find(EOF_MARKER)\n",
    "    if eof == -1:\n",
    "        raise ValueError(\"No hidden message found.\")\n",
    "    \n",
    "    binary_data = binary_data[:eof]\n",
    "    return binary_to_text(binary_data)\n"
   ]
  },
  {
   "cell_type": "code",
   "execution_count": 13,
   "metadata": {},
   "outputs": [
    {
     "name": "stdout",
     "output_type": "stream",
     "text": [
      "Encrypted Text: fwRvB9mh4VkK8iYZ63d4Yz8Ei38KYFjA6Jl5viucodAtRJR6gHz5GzaUjAfsMGnV\n",
      "Message hidden in: stego_image.png\n",
      "Extracted Encrypted: fwRvB9mh4VkK8iYZ63d4Yz8Ei38KYFjA6Jl5viucodAtRJR6gHz5GzaUjAfsMGnV\n",
      "Decrypted Message: This is a top secret message.\n"
     ]
    }
   ],
   "source": [
    "# Create a new patterned image\n",
    "img_path = create_image(path='my_image.png', width=300, height=300, pattern='gradient')\n",
    "\n",
    "# Define your secret message and password\n",
    "secret_msg = \"This is a top secret message.\"\n",
    "password = \"mypassword\"\n",
    "\n",
    "# Encrypt the message\n",
    "encrypted = encrypt_text(secret_msg, password)\n",
    "print(\"Encrypted Text:\", encrypted)\n",
    "\n",
    "# Hide the encrypted message in the image\n",
    "stego_img = hide_text('my_image.png', encrypted)\n",
    "print(\"Message hidden in:\", stego_img)\n",
    "\n",
    "# Later, extract and decrypt the message\n",
    "hidden_encrypted = extract_text(stego_img)\n",
    "print(\"Extracted Encrypted:\", hidden_encrypted)\n",
    "\n",
    "# Decrypt\n",
    "decrypted = decrypt_text(hidden_encrypted, password)\n",
    "print(\"Decrypted Message:\", decrypted)\n"
   ]
  },
  {
   "cell_type": "code",
   "execution_count": 14,
   "metadata": {},
   "outputs": [
    {
     "name": "stdout",
     "output_type": "stream",
     "text": [
      "Requirement already satisfied: pillow in c:\\programdata\\anaconda3\\lib\\site-packages (7.2.0)\n",
      "Requirement already satisfied: pycryptodome in c:\\users\\hell\\appdata\\roaming\\python\\python38\\site-packages (3.22.0)\n",
      "Note: you may need to restart the kernel to use updated packages.\n"
     ]
    }
   ],
   "source": [
    "pip install pillow pycryptodome\n"
   ]
  },
  {
   "cell_type": "code",
   "execution_count": 15,
   "metadata": {},
   "outputs": [],
   "source": [
    "from PIL import Image\n",
    "import matplotlib.pyplot as plt\n",
    "\n",
    "def show_image(path):\n",
    "    img = Image.open(path)\n",
    "    plt.figure(figsize=(6,6))\n",
    "    plt.imshow(img)\n",
    "    plt.axis('off')\n",
    "    plt.show()\n"
   ]
  },
  {
   "cell_type": "code",
   "execution_count": 16,
   "metadata": {},
   "outputs": [
    {
     "data": {
      "image/png": "[encoded data removed]",
      "text/plain": [
       "<Figure size 432x432 with 1 Axes>"
      ]
     },
     "metadata": {
      "needs_background": "light"
     },
     "output_type": "display_data"
    },
    {
     "data": {
      "image/png": "[encoded data removed]",
      "text/plain": [
       "<Figure size 432x432 with 1 Axes>"
      ]
     },
     "metadata": {
      "needs_background": "light"
     },
     "output_type": "display_data"
    }
   ],
   "source": [
    "# After generating the image\n",
    "img_path = create_image(path='my_image.png', width=300, height=300, pattern='gradient')\n",
    "show_image(img_path)\n",
    "\n",
    "# After hiding the message\n",
    "stego_img = hide_text(img_path, encrypted)\n",
    "show_image(stego_img)\n"
   ]
  },
  {
   "cell_type": "code",
   "execution_count": null,
   "metadata": {},
   "outputs": [],
   "source": []
  }
 ],
 "metadata": {
  "kernelspec": {
   "display_name": "Python 3",
   "language": "python",
   "name": "python3"
  },
  "language_info": {
   "codemirror_mode": {
    "name": "ipython",
    "version": 3
   },
   "file_extension": ".py",
   "mimetype": "text/x-python",
   "name": "python",
   "nbconvert_exporter": "python",
   "pygments_lexer": "ipython3",
   "version": "3.8.3"
  }
 },
 "nbformat": 4,
 "nbformat_minor": 4
}
